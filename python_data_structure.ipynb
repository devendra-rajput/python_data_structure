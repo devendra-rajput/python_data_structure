{
  "nbformat": 4,
  "nbformat_minor": 0,
  "metadata": {
    "colab": {
      "provenance": []
    },
    "kernelspec": {
      "name": "python3",
      "display_name": "Python 3"
    },
    "language_info": {
      "name": "python"
    }
  },
  "cells": [
    {
      "cell_type": "markdown",
      "source": [
        "# Python Data Structure"
      ],
      "metadata": {
        "id": "7uwogP0M5GD1"
      }
    },
    {
      "cell_type": "markdown",
      "source": [
        "1. What are data structures, and why are they important\n",
        "\n",
        "   - Data structure is a way of storing data so that it can be accessed or manipulated efficiently.\n",
        "\n",
        "2. Explain the difference between mutable and immutable data types with examples?\n",
        "   - **Mutable Data Types:** Mutable data types are the data types whose values can be changed after the declaration. In Python, list and dictionary are mutable data types.\n",
        "   Example: `list1 = [2, 3, 6, 8, 10] list1[1] = 4` this code will execute successfully and the updated list will be [2, 4, 6, 8, 10]\n",
        "\n",
        "  - **Immutable Data Types:** Immutable data types are the data types whose values cannot be changed after the declaration. In Python, tuple and string are immutable data types.\n",
        "  Example: `tuple1 = (2, 3, 6, 8, 10) tuple1[1] = 4` this code will throw the error because tuple is immutable.\n",
        "\n",
        "3.  What are the main differences between lists and tuples in Python?\n",
        "   - The main difference between lists and tuples is that lists are mutable and tuples are immutable.\n",
        "\n",
        "4. Describe how dictionaries store data.\n",
        "   - Dictionaries store data in the form of key-value pairs. Example:\n",
        "\n",
        "    ```dic1 = {\"name\": \"Devendra\", \"age\": 32, \"gender\": \"Male\"}```\n",
        "\n",
        "5. Why might you use a set instead of a list in Python\n",
        "   - In Python, sets are unordered collections of unique elements. So whenever you need to create a collection of unique elements and order does not matter to you, you should use sets.\n",
        "\n",
        "6. What is a string in Python, and how is it different from a list?\n",
        "   - In Python, a string is a set of characters. Example: `name = \"Devendra\"`\n",
        "It is totally different from a list because a list can contain values of different data types, such as\n",
        "`list1 = [1, \"Devendra\", 2.4, 2+5j]`\n",
        "\n",
        "7. How do tuples ensure data integrity in Python?\n",
        "   - Tuples ensure data integrity in Python mainly because they are immutable — once created, their contents cannot be changed, added, or removed.\n",
        "\n",
        "8. What is a hash table, and how does it relate to dictionaries in Python?\n",
        "   - A hash table is a data structure that stores data in key-value pairs and uses a hash function to quickly map each key to its location in memory. In Python, only dictionaries are the data type that store data in key-value pairs, so hash tables relate to dictionaries in Python.\n",
        "\n",
        "9. Can lists contain different data types in Python?\n",
        "   - Yes, Lists contain different data types in python. For Example: `list1 = [10, \"Rajput\", 4.4, 2+8j]`\n",
        "\n",
        "10. Explain why strings are immutable in Python?\n",
        "   - Strings are immutable because once a string is created, it cannot be changed in place.\n",
        "\n",
        "11. What advantages do dictionaries offer over lists for certain tasks?\n",
        "   - Dictionaries access values using keys. To access a value in a list, you have to iterate through each element unless you know the index of the value. For example:\n",
        "   ```\n",
        "    list1 = [\"Devendra\", 32, \"Male\"]\n",
        "    print(\"Devendra\" in list1) // O(n)\n",
        "    dic1 = [\"name\": \"Devendra\", \"age\": 32, \"gender\": \"Male\"]\n",
        "    print(dic[\"name\"]) // O(1)\n",
        "   ```\n",
        "\n",
        "12. Describe a scenario where using a tuple would be preferable over a list?\n",
        "   - As you know, tuples are immutable and their values cannot be changed. So whenever you know that the data in a collection should not change, you should use a tuple.\n",
        "   Scenario: Geographic Coordinates\n",
        "   `red_fort_coordinates = (28.6562, 77.2410)`\n",
        "\n",
        "13. How do sets handle duplicate values in Python?\n",
        "   - In Python, sets remove duplicate values automatically. Whenever you try to insert a value into a set, it checks whether the value already exists. If it exists, the value is ignored; otherwise, it is inserted.\n",
        "\n",
        "14. How does the “in” keyword work differently for lists and dictionaries?\n",
        "   - In the case of lists, the “in” keyword matches the values of the list, whereas in the case of dictionaries, the “in” keyword matches the keys of the dictionary.\n",
        "\n",
        "15. Can you modify the elements of a tuple? Explain why or why not?\n",
        "   - No, we cannot modify the elements of a tuple because in Python, tuples are immutable. Tuples are designed to store only unchangeable data.\n",
        "\n",
        "16. What is a nested dictionary, and give an example of its use case?\n",
        "   - A nested dictionary in Python is a dictionary inside another dictionary.\n",
        "   Use Case: Storing student records with personal details and subject grades.\n",
        "   ```\n",
        "   nested_dict = {\n",
        "        \"student1\": {\n",
        "            \"name\": \"Alice\",\n",
        "            \"age\": 20,\n",
        "            \"grades\": {\"math\": 90, \"science\": 85}\n",
        "        },\n",
        "        \"student2\": {\n",
        "            \"name\": \"Bob\",\n",
        "            \"age\": 22,\n",
        "            \"grades\": {\"math\": 75, \"science\": 80}\n",
        "        }\n",
        "    }\n",
        "    ```\n",
        "\n",
        "17. Describe the time complexity of accessing elements in a dictionary?\n",
        "   - Time complexity of accessing elements in a dictionary is O(1) because we know the key of that value in the dictionary, so we do not need to iterate through each element. For example:\n",
        "   ```\n",
        "    dic1 = [\"name\": \"Devendra\", \"age\": 32, \"gender\": \"Male\"]\n",
        "    print(dic[\"age\"]) // O(1)\n",
        "   ```\n",
        "\n",
        "18. In what situations are lists preferred over dictionaries?\n",
        "   - Lists are preferred over dictionaries when you care about order, allow duplicates, and do not need key-value pairs. For example:\n",
        "   ```\n",
        "    over_score = [0, 2, 0, 4, 4, 6]\n",
        "   ```\n",
        "\n",
        "19. Why are dictionaries considered unordered, and how does that affect data retrieval?\n",
        "   - In dictionaries, keys are stored at positions determined by their hash values, not by the order in which you insert them. This helps dictionaries retrieve data quickly without iteration.\n",
        "\n",
        "20. Explain the difference between a list and a dictionary in terms of data retrieval.\n",
        "   - In the case of lists, we retrieve data using the index, whereas in the case of dictionaries, we retrieve data using the key.\n",
        "   For Example:\n",
        "   ```\n",
        "   lsit1 = [2, 4, 6, 8, 10]\n",
        "   list1[0]\n",
        "   # Output: 2\n",
        "   dic1 = {\"name\": \"Devendra\", \"age\": 32, \"gender\": \"Male\"}\n",
        "   dic1[\"age\"]\n",
        "   # Output: 32\n",
        "   ```\n",
        "\n",
        "\n",
        "\n"
      ],
      "metadata": {
        "id": "A3laMrSm5XIT"
      }
    },
    {
      "cell_type": "markdown",
      "source": [
        "# Practical Questions"
      ],
      "metadata": {
        "id": "fgTQFY8g7105"
      }
    },
    {
      "cell_type": "code",
      "source": [
        "# Q-1. Write a code to create a string with your name and print it.\n",
        "\n",
        "name = \"Devendra Kumar\"\n",
        "print(name)"
      ],
      "metadata": {
        "id": "jMXFvIXq728g",
        "colab": {
          "base_uri": "https://localhost:8080/"
        },
        "outputId": "b357f308-433d-40db-f040-7144f9d86295"
      },
      "execution_count": 8,
      "outputs": [
        {
          "output_type": "stream",
          "name": "stdout",
          "text": [
            "Devendra Kumar\n"
          ]
        }
      ]
    },
    {
      "cell_type": "code",
      "source": [
        "# Q-2. Write a code to find the length of the string \"Hello World\".\n",
        "\n",
        "string1 = \"Hello World\"\n",
        "print(f\"The length of string is: {len(string1)}\")"
      ],
      "metadata": {
        "id": "PkyzVrIR8WEE",
        "colab": {
          "base_uri": "https://localhost:8080/"
        },
        "outputId": "e55e2dd8-752b-46ff-d397-1b780568e3c6"
      },
      "execution_count": 9,
      "outputs": [
        {
          "output_type": "stream",
          "name": "stdout",
          "text": [
            "The length of string is: 11\n"
          ]
        }
      ]
    },
    {
      "cell_type": "code",
      "source": [
        "# Q-3. Write a code to slice the first 3 characters from the string \"Python Programming\".\n",
        "\n",
        "string2 = \"Python Programming\"\n",
        "string2[0:3]"
      ],
      "metadata": {
        "id": "tkk5rJre8xOB",
        "colab": {
          "base_uri": "https://localhost:8080/",
          "height": 36
        },
        "outputId": "0dfaf060-6658-476c-f736-6fffcf4bb199"
      },
      "execution_count": 12,
      "outputs": [
        {
          "output_type": "execute_result",
          "data": {
            "text/plain": [
              "'Pyt'"
            ],
            "application/vnd.google.colaboratory.intrinsic+json": {
              "type": "string"
            }
          },
          "metadata": {},
          "execution_count": 12
        }
      ]
    },
    {
      "cell_type": "code",
      "source": [
        "# Q-4. Write a code to convert the string \"hello\" to uppercase.\n",
        "\n",
        "string3 = \"hello\"\n",
        "string3.upper()"
      ],
      "metadata": {
        "id": "_xoYMFMO9KLy",
        "colab": {
          "base_uri": "https://localhost:8080/",
          "height": 36
        },
        "outputId": "32f2a9ff-5315-4abb-d64f-e83f3f311b73"
      },
      "execution_count": 11,
      "outputs": [
        {
          "output_type": "execute_result",
          "data": {
            "text/plain": [
              "'HELLO'"
            ],
            "application/vnd.google.colaboratory.intrinsic+json": {
              "type": "string"
            }
          },
          "metadata": {},
          "execution_count": 11
        }
      ]
    },
    {
      "cell_type": "code",
      "source": [
        "# Q-5. Write a code to replace the word \"apple\" with \"orange\" in the string \"I like apple\".\n",
        "\n",
        "string4 = \"I like apple\"\n",
        "string4.replace(\"apple\", \"orange\");\n",
        "print(string4)"
      ],
      "metadata": {
        "id": "5Zl-Lmrg-OU4",
        "colab": {
          "base_uri": "https://localhost:8080/"
        },
        "outputId": "86e9807c-58b6-4f73-f796-7f2298da89f6"
      },
      "execution_count": 15,
      "outputs": [
        {
          "output_type": "stream",
          "name": "stdout",
          "text": [
            "I like apple\n"
          ]
        }
      ]
    },
    {
      "cell_type": "code",
      "source": [
        "# Q-6. Write a code to create a list with numbers 1 to 5 and print it.\n",
        "\n",
        "list1 = [1, 2, 3, 4, 5]\n",
        "print(list1)"
      ],
      "metadata": {
        "id": "Oe2QqHk6_SyN",
        "colab": {
          "base_uri": "https://localhost:8080/"
        },
        "outputId": "8da7ef9e-ace8-4dc1-97b4-1d2a59f8ba9f"
      },
      "execution_count": 16,
      "outputs": [
        {
          "output_type": "stream",
          "name": "stdout",
          "text": [
            "[1, 2, 3, 4, 5]\n"
          ]
        }
      ]
    },
    {
      "cell_type": "code",
      "source": [
        "# Q-7. Write a code to append the number 10 to the list [1, 2, 3, 4].\n",
        "\n",
        "list2 = [1, 2, 3, 4]\n",
        "list2.append(10)\n",
        "print(list2)\n"
      ],
      "metadata": {
        "id": "qm1wxvQC_Xg1",
        "colab": {
          "base_uri": "https://localhost:8080/"
        },
        "outputId": "956333aa-c0a2-4f80-b208-91204df022e6"
      },
      "execution_count": 18,
      "outputs": [
        {
          "output_type": "stream",
          "name": "stdout",
          "text": [
            "[1, 2, 3, 4, 10]\n"
          ]
        }
      ]
    },
    {
      "cell_type": "code",
      "source": [
        "# Q-8. Write a code to remove the number 3 from the list [1, 2, 3, 4, 5].\n",
        "\n",
        "list3 = [1, 2, 3, 4, 5]\n",
        "list3.remove(3)\n",
        "print(list3)\n"
      ],
      "metadata": {
        "id": "IjV2UwV0_o2t",
        "colab": {
          "base_uri": "https://localhost:8080/"
        },
        "outputId": "5e2564b3-6411-4b4a-caff-2f09ba918978"
      },
      "execution_count": 19,
      "outputs": [
        {
          "output_type": "stream",
          "name": "stdout",
          "text": [
            "[1, 2, 4, 5]\n"
          ]
        }
      ]
    },
    {
      "cell_type": "code",
      "source": [
        "# Q-9. Write a code to access the second element in the list ['a', 'b', 'c', 'd'].\n",
        "\n",
        "list4 = ['a', 'b', 'c', 'd']\n",
        "print(list4[1])"
      ],
      "metadata": {
        "id": "wg8AEWrXD46X",
        "colab": {
          "base_uri": "https://localhost:8080/"
        },
        "outputId": "68af9d4e-9282-42cb-ae0c-625b82973783"
      },
      "execution_count": 20,
      "outputs": [
        {
          "output_type": "stream",
          "name": "stdout",
          "text": [
            "b\n"
          ]
        }
      ]
    },
    {
      "cell_type": "code",
      "source": [
        "# Q-10. Write a code to reverse the list [10, 20, 30, 40, 50].\n",
        "\n",
        "list5 = [10, 20, 30, 40, 50]\n",
        "list5[::-1]"
      ],
      "metadata": {
        "id": "FvG3CsPMEY30",
        "colab": {
          "base_uri": "https://localhost:8080/"
        },
        "outputId": "4b02476a-1428-4e95-c11e-aa986fd35c29"
      },
      "execution_count": 21,
      "outputs": [
        {
          "output_type": "execute_result",
          "data": {
            "text/plain": [
              "[50, 40, 30, 20, 10]"
            ]
          },
          "metadata": {},
          "execution_count": 21
        }
      ]
    },
    {
      "cell_type": "code",
      "source": [
        "# Q-11. Write a code to create a tuple with the elements 100, 200, 300 and print it.\n",
        "\n",
        "tuple1 = (100, 200, 300)\n",
        "print(tuple1)"
      ],
      "metadata": {
        "id": "DP_O3FavEeGf",
        "colab": {
          "base_uri": "https://localhost:8080/"
        },
        "outputId": "87e865e2-c55a-4b9b-f408-be16dee55279"
      },
      "execution_count": 22,
      "outputs": [
        {
          "output_type": "stream",
          "name": "stdout",
          "text": [
            "(100, 200, 300)\n"
          ]
        }
      ]
    },
    {
      "cell_type": "code",
      "source": [
        "# Q-12. Write a code to access the second-to-last element of the tuple ('red', 'green', 'blue', 'yellow').\n",
        "\n",
        "tuple2 = ('red', 'green', 'blue', 'yellow')\n",
        "tuple2[1:]"
      ],
      "metadata": {
        "id": "XDt5kfQvE7Ma",
        "colab": {
          "base_uri": "https://localhost:8080/"
        },
        "outputId": "4be3154a-cdf0-45e6-9535-f878d05f7184"
      },
      "execution_count": 26,
      "outputs": [
        {
          "output_type": "execute_result",
          "data": {
            "text/plain": [
              "('green', 'blue', 'yellow')"
            ]
          },
          "metadata": {},
          "execution_count": 26
        }
      ]
    },
    {
      "cell_type": "code",
      "source": [
        "# Q-13. Write a code to find the minimum number in the tuple (10, 20, 5, 15).\n",
        "\n",
        "tuple3 = (10, 20, 5, 15)\n",
        "min(tuple3)"
      ],
      "metadata": {
        "id": "TLhpSRgOGHik",
        "colab": {
          "base_uri": "https://localhost:8080/"
        },
        "outputId": "eb55f46a-c6c8-4376-ae7f-ad3676922b51"
      },
      "execution_count": 28,
      "outputs": [
        {
          "output_type": "execute_result",
          "data": {
            "text/plain": [
              "5"
            ]
          },
          "metadata": {},
          "execution_count": 28
        }
      ]
    },
    {
      "cell_type": "code",
      "source": [
        "# Q-14. Write a code to find the index of the element \"cat\" in the tuple ('dog', 'cat', 'rabbit').\n",
        "\n",
        "tuple4 = ('dog', 'cat', 'rabbit')\n",
        "tuple4.index('cat')"
      ],
      "metadata": {
        "id": "30mMV1OU3Obv",
        "colab": {
          "base_uri": "https://localhost:8080/"
        },
        "outputId": "5d78138b-7780-4e6c-8771-70aa354239d5"
      },
      "execution_count": 29,
      "outputs": [
        {
          "output_type": "execute_result",
          "data": {
            "text/plain": [
              "1"
            ]
          },
          "metadata": {},
          "execution_count": 29
        }
      ]
    },
    {
      "cell_type": "code",
      "source": [
        "# Q-15. Write a code to create a tuple containing three different fruits and check if \"kiwi\" is in it.\n",
        "\n",
        "fruits = (\"apple\", \"banana\", \"mango\", \"kiwi\", \"orange\")\n",
        "\"kiwi\" in fruits\n"
      ],
      "metadata": {
        "id": "6OK67vNZ4xlo",
        "colab": {
          "base_uri": "https://localhost:8080/"
        },
        "outputId": "51ffd42f-1781-4b2e-bcec-962c6310f5df"
      },
      "execution_count": 30,
      "outputs": [
        {
          "output_type": "execute_result",
          "data": {
            "text/plain": [
              "True"
            ]
          },
          "metadata": {},
          "execution_count": 30
        }
      ]
    },
    {
      "cell_type": "code",
      "source": [
        "# Q-16. Write a code to create a set with the elements 'a', 'b', 'c' and print it.\n",
        "\n",
        "set1 = {'a', 'b', 'c'}\n",
        "print(set1)"
      ],
      "metadata": {
        "id": "OyBG48WLKxwX",
        "colab": {
          "base_uri": "https://localhost:8080/"
        },
        "outputId": "1d4efe78-313f-41c8-a456-48da57660b5d"
      },
      "execution_count": 31,
      "outputs": [
        {
          "output_type": "stream",
          "name": "stdout",
          "text": [
            "{'b', 'c', 'a'}\n"
          ]
        }
      ]
    },
    {
      "cell_type": "code",
      "source": [
        "# Q-17. Write a code to clear all elements from the set {1, 2, 3, 4, 5}.\n",
        "\n",
        "set2 = {1, 2, 3, 4, 5}\n",
        "set2.clear()\n",
        "print(set2)"
      ],
      "metadata": {
        "colab": {
          "base_uri": "https://localhost:8080/"
        },
        "id": "qHeJ8SzN3NyO",
        "outputId": "32c5d197-97e4-4960-e3c2-5c6beb1162ad"
      },
      "execution_count": 33,
      "outputs": [
        {
          "output_type": "stream",
          "name": "stdout",
          "text": [
            "set()\n"
          ]
        }
      ]
    },
    {
      "cell_type": "code",
      "source": [
        "# Q-18. Write a code to remove the element 4 from the set {1, 2, 3, 4}.\n",
        "\n",
        "set2 = {1, 2, 3, 4}\n",
        "set2.remove(4)\n",
        "print(set2)"
      ],
      "metadata": {
        "colab": {
          "base_uri": "https://localhost:8080/"
        },
        "id": "eoSWacwI3ape",
        "outputId": "5ba6c0ee-e0e7-4401-a264-662ba4d8336c"
      },
      "execution_count": 34,
      "outputs": [
        {
          "output_type": "stream",
          "name": "stdout",
          "text": [
            "{1, 2, 3}\n"
          ]
        }
      ]
    },
    {
      "cell_type": "code",
      "source": [
        "# Q-19. Write a code to find the union of two sets {1, 2, 3} and {3, 4, 5}.\n",
        "\n",
        "set3 = {1, 2, 3}\n",
        "set4 = {3, 4, 5}\n",
        "set3 | set4"
      ],
      "metadata": {
        "colab": {
          "base_uri": "https://localhost:8080/"
        },
        "id": "kbwVaX_q3ler",
        "outputId": "9d7a35c6-11cc-4242-8de4-ae09f0844972"
      },
      "execution_count": 35,
      "outputs": [
        {
          "output_type": "execute_result",
          "data": {
            "text/plain": [
              "{1, 2, 3, 4, 5}"
            ]
          },
          "metadata": {},
          "execution_count": 35
        }
      ]
    },
    {
      "cell_type": "code",
      "source": [
        "# Q-20. Write a code to find the intersection of two sets {1, 2, 3} and {2, 3, 4}.\n",
        "\n",
        "set5 = {1, 2, 3}\n",
        "set6 = {2, 3, 4}\n",
        "set5 & set6"
      ],
      "metadata": {
        "colab": {
          "base_uri": "https://localhost:8080/"
        },
        "id": "72dWGJeH33Y8",
        "outputId": "54b87172-efa8-48af-87a8-c94aca0d193b"
      },
      "execution_count": 39,
      "outputs": [
        {
          "output_type": "execute_result",
          "data": {
            "text/plain": [
              "{2, 3}"
            ]
          },
          "metadata": {},
          "execution_count": 39
        }
      ]
    },
    {
      "cell_type": "code",
      "source": [
        "# Q-21. Write a code to create a dictionary with the keys \"name\", \"age\", and \"city\", and print it.\n",
        "\n",
        "dic1 = {\"name\": \"Devendra\", \"age\": 32, \"city\": \"Chandigarh\"}\n",
        "print(dic1)"
      ],
      "metadata": {
        "colab": {
          "base_uri": "https://localhost:8080/"
        },
        "id": "U0MuZf0G4L2f",
        "outputId": "2bdcb41a-3d43-4f30-d0bc-0461e97adf17"
      },
      "execution_count": 41,
      "outputs": [
        {
          "output_type": "stream",
          "name": "stdout",
          "text": [
            "{'name': 'Devendra', 'age': 32, 'city': 'Chandigarh'}\n"
          ]
        }
      ]
    },
    {
      "cell_type": "code",
      "source": [
        "# Q-22. Write a code to add a new key-value pair \"country\": \"USA\" to the dictionary {'name': 'John', 'age': 25}.\n",
        "\n",
        "dic2 = {'name': 'John', 'age': 25}\n",
        "dic2['country'] = \"USA\"\n",
        "print(dic2)"
      ],
      "metadata": {
        "colab": {
          "base_uri": "https://localhost:8080/"
        },
        "id": "BUslovrK4yC9",
        "outputId": "a0dcddbb-e05c-4214-db1a-e040fdfdd618"
      },
      "execution_count": 42,
      "outputs": [
        {
          "output_type": "stream",
          "name": "stdout",
          "text": [
            "{'name': 'John', 'age': 25, 'country': 'USA'}\n"
          ]
        }
      ]
    },
    {
      "cell_type": "code",
      "source": [
        "# Q-23. Write a code to access the value associated with the key \"name\" in the dictionary {'name': 'Alice', 'age': 30}.\n",
        "\n",
        "dic3 = {'name': 'Alice', 'age': 30}\n",
        "print(dic3[\"name\"])"
      ],
      "metadata": {
        "colab": {
          "base_uri": "https://localhost:8080/"
        },
        "id": "GKJIX0VF5C0U",
        "outputId": "af8df433-4c17-4294-e575-91ebdd92ecf2"
      },
      "execution_count": 43,
      "outputs": [
        {
          "output_type": "stream",
          "name": "stdout",
          "text": [
            "Alice\n"
          ]
        }
      ]
    },
    {
      "cell_type": "code",
      "source": [
        "# Q-24. Write a code to remove the key \"age\" from the dictionary {'name': 'Bob', 'age': 22, 'city': 'New York'}.\n",
        "\n",
        "dic4 = {'name': 'Bob', 'age': 22, 'city': 'New York'}\n",
        "dic4.pop('age')\n",
        "print(dic4)"
      ],
      "metadata": {
        "colab": {
          "base_uri": "https://localhost:8080/"
        },
        "id": "YJada8Zl5Qss",
        "outputId": "1bfe6c59-c1ac-4862-8094-75beaa26a839"
      },
      "execution_count": 47,
      "outputs": [
        {
          "output_type": "stream",
          "name": "stdout",
          "text": [
            "{'name': 'Bob', 'city': 'New York'}\n"
          ]
        }
      ]
    },
    {
      "cell_type": "code",
      "source": [
        "# Q-25. Write a code to check if the key \"city\" exists in the dictionary {'name': 'Alice', 'city': 'Paris'}.\n",
        "\n",
        "dic5 = {'name': 'Alice', 'city': 'Paris'}\n",
        "'city' in dic5"
      ],
      "metadata": {
        "colab": {
          "base_uri": "https://localhost:8080/"
        },
        "id": "3tSO-Oqf5faU",
        "outputId": "320d5e73-5c15-4453-b5a3-c67f8cd16b51"
      },
      "execution_count": 48,
      "outputs": [
        {
          "output_type": "execute_result",
          "data": {
            "text/plain": [
              "True"
            ]
          },
          "metadata": {},
          "execution_count": 48
        }
      ]
    },
    {
      "cell_type": "code",
      "source": [
        "# Q-26. Write a code to create a list, a tuple, and a dictionary, and print them all.\n",
        "\n",
        "fruit_list = [\"Apple\", \"Banana\", \"Mango\"]\n",
        "score_tuple = (3, 2, 4, 4, 0, 6)\n",
        "info_dic = {\"name\": \"Devendra\", \"age\": 32, \"city\": \"Chandigarh\"}\n",
        "\n",
        "print(f\"List: {fruit_list}\")\n",
        "print(f\"Tuple: {score_tuple}\")\n",
        "print(f\"Dictionary: {info_dic}\")"
      ],
      "metadata": {
        "colab": {
          "base_uri": "https://localhost:8080/"
        },
        "id": "0WCwDHiD5-xZ",
        "outputId": "7add85d8-ffbd-43cc-fbd9-a747e4236539"
      },
      "execution_count": 50,
      "outputs": [
        {
          "output_type": "stream",
          "name": "stdout",
          "text": [
            "List: ['Apple', 'Banana', 'Mango']\n",
            "Tuple: (3, 2, 4, 4, 0, 6)\n",
            "Dictionary: {'name': 'Devendra', 'age': 32, 'city': 'Chandigarh'}\n"
          ]
        }
      ]
    },
    {
      "cell_type": "code",
      "source": [
        "# Q-27. Write a code to create a list of 5 random numbers between 1 and 100, sort it in ascending order, and print the result.\n",
        "\n",
        "number_list = [34, 23, 17, 56, 11]\n",
        "number_list.sort()\n",
        "print(number_list)"
      ],
      "metadata": {
        "colab": {
          "base_uri": "https://localhost:8080/"
        },
        "id": "2K8gO_rm6aNs",
        "outputId": "8836b1b1-f27e-423f-afd7-d4f798063adc"
      },
      "execution_count": 53,
      "outputs": [
        {
          "output_type": "stream",
          "name": "stdout",
          "text": [
            "[11, 17, 23, 34, 56]\n"
          ]
        }
      ]
    },
    {
      "cell_type": "code",
      "source": [
        "# Q-28. Write a code to create a list with strings and print the element at the third index.\n",
        "\n",
        "strings_list = [\"Chandigarh\", \"Delhi\", \"Mumbai\", \"Indore\", \"Pune\"]\n",
        "print(strings_list[3])"
      ],
      "metadata": {
        "colab": {
          "base_uri": "https://localhost:8080/"
        },
        "id": "sLxC_V7X7TK4",
        "outputId": "cf90b6c7-d2cc-4b73-cbc6-7d1d3af915be"
      },
      "execution_count": 55,
      "outputs": [
        {
          "output_type": "stream",
          "name": "stdout",
          "text": [
            "Indore\n"
          ]
        }
      ]
    },
    {
      "cell_type": "code",
      "source": [
        "# Q-29. Write a code to combine two dictionaries into one and print the result.\n",
        "\n",
        "dic6 = {\"name\": \"Devendra\", \"age\": 32}\n",
        "dic7 = {\"city\": \"Chandigarh\", \"gender\": \"Male\"}\n",
        "dic6.update(dic7)\n",
        "print(dic6)"
      ],
      "metadata": {
        "colab": {
          "base_uri": "https://localhost:8080/"
        },
        "id": "VIecxMIQ7-Of",
        "outputId": "a3cce1e5-050c-46b2-c01c-3c4fb61a2bdc"
      },
      "execution_count": 58,
      "outputs": [
        {
          "output_type": "stream",
          "name": "stdout",
          "text": [
            "{'name': 'Devendra', 'age': 32, 'city': 'Chandigarh', 'gender': 'Male'}\n"
          ]
        }
      ]
    },
    {
      "cell_type": "code",
      "source": [
        "# Q-30. Write a code to convert a list of strings into a set.\n",
        "\n",
        "test_list = [\"Chandigarh\", \"Delhi\", \"Mumbai\", \"Indore\", \"Pune\"]\n",
        "set(test_list)"
      ],
      "metadata": {
        "colab": {
          "base_uri": "https://localhost:8080/"
        },
        "id": "cJU2mYvM8aIq",
        "outputId": "ede12d8c-a470-4d14-cf5e-168a42f49eab"
      },
      "execution_count": 59,
      "outputs": [
        {
          "output_type": "execute_result",
          "data": {
            "text/plain": [
              "{'Chandigarh', 'Delhi', 'Indore', 'Mumbai', 'Pune'}"
            ]
          },
          "metadata": {},
          "execution_count": 59
        }
      ]
    },
    {
      "cell_type": "code",
      "source": [],
      "metadata": {
        "id": "oXGSscXx8--L"
      },
      "execution_count": null,
      "outputs": []
    }
  ]
}